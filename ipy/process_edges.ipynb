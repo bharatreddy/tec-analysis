{
 "cells": [
  {
   "cell_type": "code",
   "execution_count": 1,
   "metadata": {
    "collapsed": true
   },
   "outputs": [],
   "source": [
    "import pandas\n",
    "import datetime\n",
    "import os\n",
    "import numpy\n",
    "from scipy import signal, ndimage\n",
    "from davitpy.models import *\n",
    "from davitpy import utils\n",
    "import matplotlib.pyplot as plt\n",
    "from matplotlib.colors import ListedColormap\n",
    "from matplotlib.colors import Normalize\n",
    "from matplotlib import ticker\n",
    "import seaborn as sns\n",
    "%matplotlib inline"
   ]
  },
  {
   "cell_type": "code",
   "execution_count": null,
   "metadata": {
    "collapsed": false
   },
   "outputs": [],
   "source": [
    "selDT = datetime.datetime( 2011, 4, 9, 8, 40 )\n",
    "medFiltedSize = ( 1, 3 )\n",
    "fileDtStr = selDT.strftime(\"%y%m%d\")\n",
    "# Load the appropriate file based on date\n",
    "baseDir = \"../data/\"\n",
    "for root, dirs, files in os.walk(baseDir):\n",
    "    for fName in files:\n",
    "        if fName.find(fileDtStr) != -1:\n",
    "            inpTecFile = root + \"/\" + fName"
   ]
  },
  {
   "cell_type": "code",
   "execution_count": null,
   "metadata": {
    "collapsed": false
   },
   "outputs": [],
   "source": [
    "dataDF = pandas.read_hdf(inpTecFile, 'Data/Table Layout')\n",
    "dataDF[\"date\"] = pandas.to_datetime(dataDF[\"year\"]*10000000000 +\\\n",
    "                                    dataDF[\"month\"]*100000000 + dataDF[\"day\"]*1000000 +\\\n",
    "                                    dataDF[\"hour\"]*10000 + dataDF[\"min\"]*100 +\\\n",
    "                                    dataDF[\"sec\"],format='%Y%m%d%H%M%S')\n",
    "# Only take selected datetime\n",
    "dataDF[\"selTimeDel\"] = dataDF[\"date\"] - selDT\n",
    "dataDF = dataDF[ dataDF[\"selTimeDel\"] == min(abs(dataDF[\"selTimeDel\"])) ].reset_index(drop=True)\n",
    "# Discard tec values which are 2stds away!\n",
    "cutOffLimit = dataDF[\"tec\"].mean() + 2*dataDF[\"tec\"].std()\n",
    "dataDF = dataDF[ dataDF[\"tec\"] <= cutOffLimit ]\n",
    "dataDF.head()"
   ]
  },
  {
   "cell_type": "code",
   "execution_count": null,
   "metadata": {
    "collapsed": false
   },
   "outputs": [],
   "source": [
    "medDF = dataDF.pivot( index=\"gdlat\", columns=\"glon\", values=\"tec\" )\n",
    "filteredTecArr = signal.medfilt( medDF.as_matrix(), kernel_size=medFiltedSize )\n",
    "medDF[ medDF.columns ] = filteredTecArr\n",
    "medDF = medDF.unstack().reset_index()\n",
    "medDF.columns = [ \"glon\", \"gdlat\", \"med_tec\" ]"
   ]
  },
  {
   "cell_type": "code",
   "execution_count": null,
   "metadata": {
    "collapsed": false
   },
   "outputs": [],
   "source": [
    "gLonArr = medDF[\"glon\"].values\n",
    "gdLatArr = medDF[\"gdlat\"].values\n",
    "mlon, mlat = utils.coord_conv( gLonArr, gdLatArr, \\\n",
    "                                 \"geo\", \"mag\", altitude=300., \\\n",
    "                                 date_time=selDT )\n",
    "medDF[\"mlon\"] = mlon\n",
    "medDF[\"mlat\"] = mlat\n",
    "medDF[\"mlt\"] = [ aacgm.mltFromYmdhms(selDT.year, \\\n",
    "                selDT.month,selDT.day, selDT.hour,\\\n",
    "                selDT.minute, selDT.second, x) for x in medDF[\"mlon\"] ]\n",
    "medDF[\"normMLT\"] = [x-24 if x >= 12\\\n",
    "             else x for x in medDF['mlt']]\n",
    "medDF.head()"
   ]
  },
  {
   "cell_type": "code",
   "execution_count": null,
   "metadata": {
    "collapsed": false
   },
   "outputs": [],
   "source": [
    "# set colorbar\n",
    "seaMap = ListedColormap(sns.color_palette(\"RdBu_r\"))\n",
    "# Plot map\n",
    "f = plt.figure(figsize=(12, 8))\n",
    "ax = f.add_subplot(1,1,1)\n",
    "m1 = utils.plotUtils.mapObj(boundinglat=30., gridLabels=True, coords='mag', ax=ax, datetime=selDT)\n",
    "xVec, yVec = m1(list(medDF[\"mlon\"]), list(medDF[\"mlat\"]), coords=\"mag\")\n",
    "tecPlot = m1.scatter( xVec, yVec , c=medDF[\"med_tec\"], s=40.,\\\n",
    "           cmap=seaMap, alpha=0.7, zorder=5., \\\n",
    "                     edgecolor='none', marker=\"s\" )\n",
    "\n",
    "cbar = plt.colorbar(tecPlot, orientation='vertical')\n",
    "cbar.set_label('TEC', size=15)\n",
    "f.savefig(\"../figs/tec-med-filt-\" + selDT.strftime(\"%Y%m%d-%H%M\") + \".pdf\",bbox_inches='tight')"
   ]
  },
  {
   "cell_type": "code",
   "execution_count": null,
   "metadata": {
    "collapsed": false
   },
   "outputs": [],
   "source": [
    "# medDF = medDF.round(2)\n",
    "test = medDF.groupby( \"mlt\" ).count()\n",
    "print medDF.head()"
   ]
  },
  {
   "cell_type": "code",
   "execution_count": null,
   "metadata": {
    "collapsed": true
   },
   "outputs": [],
   "source": []
  }
 ],
 "metadata": {
  "kernelspec": {
   "display_name": "Python 2",
   "language": "python",
   "name": "python2"
  },
  "language_info": {
   "codemirror_mode": {
    "name": "ipython",
    "version": 2
   },
   "file_extension": ".py",
   "mimetype": "text/x-python",
   "name": "python",
   "nbconvert_exporter": "python",
   "pygments_lexer": "ipython2",
   "version": "2.7.6"
  }
 },
 "nbformat": 4,
 "nbformat_minor": 2
}
