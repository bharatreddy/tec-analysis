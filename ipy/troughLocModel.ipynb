{
 "cells": [
  {
   "cell_type": "code",
   "execution_count": 1,
   "metadata": {
    "collapsed": true
   },
   "outputs": [],
   "source": [
    "import pandas\n",
    "import datetime\n",
    "import urllib\n",
    "import bs4\n",
    "import numpy\n",
    "from davitpy.models import *\n",
    "from davitpy import utils\n",
    "import matplotlib.pyplot as plt\n",
    "from matplotlib.colors import ListedColormap\n",
    "from matplotlib.colors import Normalize\n",
    "from matplotlib import ticker\n",
    "import seaborn as sns\n",
    "%matplotlib inline"
   ]
  },
  {
   "cell_type": "code",
   "execution_count": 2,
   "metadata": {},
   "outputs": [
    {
     "data": {
      "text/html": [
       "<div>\n",
       "<table border=\"1\" class=\"dataframe\">\n",
       "  <thead>\n",
       "    <tr style=\"text-align: right;\">\n",
       "      <th></th>\n",
       "      <th>dst_med</th>\n",
       "      <th>BndMlon</th>\n",
       "      <th>BndEquMlat</th>\n",
       "      <th>BndEquTecVal</th>\n",
       "      <th>BndPolMlat</th>\n",
       "      <th>BndPolTecVal</th>\n",
       "      <th>minTecMlat</th>\n",
       "      <th>minTecVal</th>\n",
       "      <th>BndMLT</th>\n",
       "      <th>BndNormMLT</th>\n",
       "      <th>dst_bin</th>\n",
       "    </tr>\n",
       "  </thead>\n",
       "  <tbody>\n",
       "    <tr>\n",
       "      <th>0</th>\n",
       "      <td>-95.0</td>\n",
       "      <td>279.91</td>\n",
       "      <td>56.11</td>\n",
       "      <td>15.74</td>\n",
       "      <td>66.28</td>\n",
       "      <td>8.41</td>\n",
       "      <td>63.24</td>\n",
       "      <td>6.67</td>\n",
       "      <td>16.1</td>\n",
       "      <td>-7.9</td>\n",
       "      <td>(-150, -75]</td>\n",
       "    </tr>\n",
       "    <tr>\n",
       "      <th>1</th>\n",
       "      <td>-95.0</td>\n",
       "      <td>283.06</td>\n",
       "      <td>56.41</td>\n",
       "      <td>16.32</td>\n",
       "      <td>66.69</td>\n",
       "      <td>8.31</td>\n",
       "      <td>63.33</td>\n",
       "      <td>6.96</td>\n",
       "      <td>16.2</td>\n",
       "      <td>-7.8</td>\n",
       "      <td>(-150, -75]</td>\n",
       "    </tr>\n",
       "    <tr>\n",
       "      <th>2</th>\n",
       "      <td>-95.0</td>\n",
       "      <td>282.48</td>\n",
       "      <td>56.93</td>\n",
       "      <td>14.31</td>\n",
       "      <td>66.62</td>\n",
       "      <td>8.01</td>\n",
       "      <td>63.29</td>\n",
       "      <td>6.55</td>\n",
       "      <td>16.3</td>\n",
       "      <td>-7.7</td>\n",
       "      <td>(-150, -75]</td>\n",
       "    </tr>\n",
       "    <tr>\n",
       "      <th>3</th>\n",
       "      <td>-95.0</td>\n",
       "      <td>283.90</td>\n",
       "      <td>56.73</td>\n",
       "      <td>14.40</td>\n",
       "      <td>66.33</td>\n",
       "      <td>7.97</td>\n",
       "      <td>62.89</td>\n",
       "      <td>6.40</td>\n",
       "      <td>16.4</td>\n",
       "      <td>-7.6</td>\n",
       "      <td>(-150, -75]</td>\n",
       "    </tr>\n",
       "    <tr>\n",
       "      <th>4</th>\n",
       "      <td>-57.0</td>\n",
       "      <td>275.70</td>\n",
       "      <td>57.50</td>\n",
       "      <td>12.09</td>\n",
       "      <td>67.14</td>\n",
       "      <td>7.03</td>\n",
       "      <td>63.71</td>\n",
       "      <td>5.40</td>\n",
       "      <td>16.4</td>\n",
       "      <td>-7.6</td>\n",
       "      <td>(-75, -50]</td>\n",
       "    </tr>\n",
       "  </tbody>\n",
       "</table>\n",
       "</div>"
      ],
      "text/plain": [
       "   dst_med  BndMlon  BndEquMlat  BndEquTecVal  BndPolMlat  BndPolTecVal  \\\n",
       "0    -95.0   279.91       56.11         15.74       66.28          8.41   \n",
       "1    -95.0   283.06       56.41         16.32       66.69          8.31   \n",
       "2    -95.0   282.48       56.93         14.31       66.62          8.01   \n",
       "3    -95.0   283.90       56.73         14.40       66.33          7.97   \n",
       "4    -57.0   275.70       57.50         12.09       67.14          7.03   \n",
       "\n",
       "   minTecMlat  minTecVal  BndMLT  BndNormMLT      dst_bin  \n",
       "0       63.24       6.67    16.1        -7.9  (-150, -75]  \n",
       "1       63.33       6.96    16.2        -7.8  (-150, -75]  \n",
       "2       63.29       6.55    16.3        -7.7  (-150, -75]  \n",
       "3       62.89       6.40    16.4        -7.6  (-150, -75]  \n",
       "4       63.71       5.40    16.4        -7.6   (-75, -50]  "
      ]
     },
     "execution_count": 2,
     "metadata": {},
     "output_type": "execute_result"
    }
   ],
   "source": [
    "def convert_dst_med_to_bin(row):\n",
    "    currDstBin = row[\"dst_med\"]\n",
    "    if currDstBin == -5.0:\n",
    "        return \"(-10, 10]\"\n",
    "    if currDstBin == -18.0:\n",
    "        return \"(-25, -10]\"\n",
    "    if currDstBin == -36.0:\n",
    "        return \"(-50, -25]\"\n",
    "    if currDstBin == -57.0:\n",
    "        return \"(-75, -50]\"\n",
    "    if currDstBin == -95.0:\n",
    "        return \"(-150, -75]\"\n",
    "trghStatDF = pandas.read_csv(\"../data/trghBnds-idl.txt\", sep=' ')\n",
    "# Convert dst_med to bin\n",
    "trghStatDF[\"dst_bin\"] = trghStatDF.apply( convert_dst_med_to_bin, axis=1 )\n",
    "trghStatDF.head()"
   ]
  },
  {
   "cell_type": "code",
   "execution_count": 6,
   "metadata": {},
   "outputs": [],
   "source": [
    "# Exponential fits for trough min, equatorward edge and poleward edge"
   ]
  },
  {
   "cell_type": "code",
   "execution_count": null,
   "metadata": {},
   "outputs": [],
   "source": []
  },
  {
   "cell_type": "code",
   "execution_count": null,
   "metadata": {
    "collapsed": true
   },
   "outputs": [],
   "source": []
  }
 ],
 "metadata": {
  "kernelspec": {
   "display_name": "Python 2",
   "language": "python",
   "name": "python2"
  },
  "language_info": {
   "codemirror_mode": {
    "name": "ipython",
    "version": 2
   },
   "file_extension": ".py",
   "mimetype": "text/x-python",
   "name": "python",
   "nbconvert_exporter": "python",
   "pygments_lexer": "ipython2",
   "version": "2.7.6"
  }
 },
 "nbformat": 4,
 "nbformat_minor": 2
}
