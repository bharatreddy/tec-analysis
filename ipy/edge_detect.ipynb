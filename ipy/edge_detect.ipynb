{
 "cells": [
  {
   "cell_type": "code",
   "execution_count": 1,
   "metadata": {
    "collapsed": true,
    "deletable": true,
    "editable": true
   },
   "outputs": [],
   "source": [
    "import pandas\n",
    "import datetime\n",
    "import os\n",
    "import numpy\n",
    "from scipy import signal, ndimage\n",
    "from davitpy.models import *\n",
    "from davitpy import utils\n",
    "import matplotlib.pyplot as plt\n",
    "from matplotlib.colors import ListedColormap\n",
    "from matplotlib.colors import Normalize\n",
    "from matplotlib import ticker\n",
    "import seaborn as sns\n",
    "%matplotlib inline"
   ]
  },
  {
   "cell_type": "code",
   "execution_count": 2,
   "metadata": {
    "collapsed": true,
    "deletable": true,
    "editable": true
   },
   "outputs": [],
   "source": [
    "selDT = datetime.datetime( 2011, 4, 9, 8, 40 )#datetime.datetime( 2011, 4, 9, 8, 40 )\n",
    "medFiltedSize = ( 1, 3 )\n",
    "fileDtStr = selDT.strftime(\"%y%m%d\")\n",
    "# Load the appropriate file based on date\n",
    "baseDir = \"../data/\"\n",
    "for root, dirs, files in os.walk(baseDir):\n",
    "    for fName in files:\n",
    "        if fName.find(fileDtStr) != -1:\n",
    "            inpTecFile = root + \"/\" + fName"
   ]
  },
  {
   "cell_type": "code",
   "execution_count": 3,
   "metadata": {
    "collapsed": false,
    "deletable": true,
    "editable": true
   },
   "outputs": [
    {
     "data": {
      "text/html": [
       "<div>\n",
       "<table border=\"1\" class=\"dataframe\">\n",
       "  <thead>\n",
       "    <tr style=\"text-align: right;\">\n",
       "      <th></th>\n",
       "      <th>date</th>\n",
       "      <th>gdlat</th>\n",
       "      <th>glon</th>\n",
       "      <th>tec</th>\n",
       "      <th>dtec</th>\n",
       "    </tr>\n",
       "  </thead>\n",
       "  <tbody>\n",
       "    <tr>\n",
       "      <th>0</th>\n",
       "      <td>2011-04-09 08:42:30</td>\n",
       "      <td>-90.0</td>\n",
       "      <td>-3.0</td>\n",
       "      <td>4.2</td>\n",
       "      <td>2.6</td>\n",
       "    </tr>\n",
       "    <tr>\n",
       "      <th>1</th>\n",
       "      <td>2011-04-09 08:42:30</td>\n",
       "      <td>-90.0</td>\n",
       "      <td>-2.0</td>\n",
       "      <td>4.4</td>\n",
       "      <td>2.6</td>\n",
       "    </tr>\n",
       "    <tr>\n",
       "      <th>2</th>\n",
       "      <td>2011-04-09 08:42:30</td>\n",
       "      <td>-90.0</td>\n",
       "      <td>-1.0</td>\n",
       "      <td>4.3</td>\n",
       "      <td>2.5</td>\n",
       "    </tr>\n",
       "    <tr>\n",
       "      <th>3</th>\n",
       "      <td>2011-04-09 08:42:30</td>\n",
       "      <td>-90.0</td>\n",
       "      <td>0.0</td>\n",
       "      <td>4.1</td>\n",
       "      <td>2.5</td>\n",
       "    </tr>\n",
       "    <tr>\n",
       "      <th>4</th>\n",
       "      <td>2011-04-09 08:42:30</td>\n",
       "      <td>-90.0</td>\n",
       "      <td>1.0</td>\n",
       "      <td>3.9</td>\n",
       "      <td>2.5</td>\n",
       "    </tr>\n",
       "  </tbody>\n",
       "</table>\n",
       "</div>"
      ],
      "text/plain": [
       "                 date  gdlat  glon  tec  dtec\n",
       "0 2011-04-09 08:42:30  -90.0  -3.0  4.2   2.6\n",
       "1 2011-04-09 08:42:30  -90.0  -2.0  4.4   2.6\n",
       "2 2011-04-09 08:42:30  -90.0  -1.0  4.3   2.5\n",
       "3 2011-04-09 08:42:30  -90.0   0.0  4.1   2.5\n",
       "4 2011-04-09 08:42:30  -90.0   1.0  3.9   2.5"
      ]
     },
     "execution_count": 3,
     "metadata": {},
     "output_type": "execute_result"
    }
   ],
   "source": [
    "dataDF = pandas.read_hdf(inpTecFile, 'Data/Table Layout')\n",
    "dataDF[\"date\"] = pandas.to_datetime(dataDF[\"year\"]*10000000000 +\\\n",
    "                                    dataDF[\"month\"]*100000000 + dataDF[\"day\"]*1000000 +\\\n",
    "                                    dataDF[\"hour\"]*10000 + dataDF[\"min\"]*100 +\\\n",
    "                                    dataDF[\"sec\"],format='%Y%m%d%H%M%S')\n",
    "# Only take selected datetime\n",
    "dataDF[\"selTimeDel\"] = dataDF[\"date\"] - selDT\n",
    "dataDF = dataDF[ dataDF[\"selTimeDel\"] == min(abs(dataDF[\"selTimeDel\"])) ].reset_index(drop=True)\n",
    "# Discard tec values which are 2stds away!\n",
    "cutOffLimit = dataDF[\"tec\"].mean() + 2*dataDF[\"tec\"].std()\n",
    "dataDF = dataDF[ dataDF[\"tec\"] <= cutOffLimit ]\n",
    "dataDF = dataDF[ [ \"date\", \"gdlat\", \"glon\", \"tec\", \"dtec\" ] ]\n",
    "dataDF.head()"
   ]
  },
  {
   "cell_type": "code",
   "execution_count": 4,
   "metadata": {
    "collapsed": false,
    "deletable": true,
    "editable": true
   },
   "outputs": [
    {
     "data": {
      "text/html": [
       "<div>\n",
       "<table border=\"1\" class=\"dataframe\">\n",
       "  <thead>\n",
       "    <tr style=\"text-align: right;\">\n",
       "      <th></th>\n",
       "      <th>date</th>\n",
       "      <th>gdlat</th>\n",
       "      <th>glon</th>\n",
       "      <th>tec</th>\n",
       "      <th>dtec</th>\n",
       "      <th>mlon</th>\n",
       "      <th>mlat</th>\n",
       "      <th>mlt</th>\n",
       "      <th>normMLT</th>\n",
       "    </tr>\n",
       "  </thead>\n",
       "  <tbody>\n",
       "    <tr>\n",
       "      <th>0</th>\n",
       "      <td>2011-04-09 08:42:30</td>\n",
       "      <td>-90.0</td>\n",
       "      <td>-3.0</td>\n",
       "      <td>4.2</td>\n",
       "      <td>2.6</td>\n",
       "      <td>18.472788</td>\n",
       "      <td>-74.917784</td>\n",
       "      <td>5.001458</td>\n",
       "      <td>5.001458</td>\n",
       "    </tr>\n",
       "    <tr>\n",
       "      <th>1</th>\n",
       "      <td>2011-04-09 08:42:30</td>\n",
       "      <td>-90.0</td>\n",
       "      <td>-2.0</td>\n",
       "      <td>4.4</td>\n",
       "      <td>2.6</td>\n",
       "      <td>18.472788</td>\n",
       "      <td>-74.917784</td>\n",
       "      <td>5.001458</td>\n",
       "      <td>5.001458</td>\n",
       "    </tr>\n",
       "    <tr>\n",
       "      <th>2</th>\n",
       "      <td>2011-04-09 08:42:30</td>\n",
       "      <td>-90.0</td>\n",
       "      <td>-1.0</td>\n",
       "      <td>4.3</td>\n",
       "      <td>2.5</td>\n",
       "      <td>18.472788</td>\n",
       "      <td>-74.917784</td>\n",
       "      <td>5.001458</td>\n",
       "      <td>5.001458</td>\n",
       "    </tr>\n",
       "    <tr>\n",
       "      <th>3</th>\n",
       "      <td>2011-04-09 08:42:30</td>\n",
       "      <td>-90.0</td>\n",
       "      <td>0.0</td>\n",
       "      <td>4.1</td>\n",
       "      <td>2.5</td>\n",
       "      <td>18.472788</td>\n",
       "      <td>-74.917784</td>\n",
       "      <td>5.001458</td>\n",
       "      <td>5.001458</td>\n",
       "    </tr>\n",
       "    <tr>\n",
       "      <th>4</th>\n",
       "      <td>2011-04-09 08:42:30</td>\n",
       "      <td>-90.0</td>\n",
       "      <td>1.0</td>\n",
       "      <td>3.9</td>\n",
       "      <td>2.5</td>\n",
       "      <td>18.472788</td>\n",
       "      <td>-74.917784</td>\n",
       "      <td>5.001458</td>\n",
       "      <td>5.001458</td>\n",
       "    </tr>\n",
       "  </tbody>\n",
       "</table>\n",
       "</div>"
      ],
      "text/plain": [
       "                 date  gdlat  glon  tec  dtec       mlon       mlat       mlt  \\\n",
       "0 2011-04-09 08:42:30  -90.0  -3.0  4.2   2.6  18.472788 -74.917784  5.001458   \n",
       "1 2011-04-09 08:42:30  -90.0  -2.0  4.4   2.6  18.472788 -74.917784  5.001458   \n",
       "2 2011-04-09 08:42:30  -90.0  -1.0  4.3   2.5  18.472788 -74.917784  5.001458   \n",
       "3 2011-04-09 08:42:30  -90.0   0.0  4.1   2.5  18.472788 -74.917784  5.001458   \n",
       "4 2011-04-09 08:42:30  -90.0   1.0  3.9   2.5  18.472788 -74.917784  5.001458   \n",
       "\n",
       "    normMLT  \n",
       "0  5.001458  \n",
       "1  5.001458  \n",
       "2  5.001458  \n",
       "3  5.001458  \n",
       "4  5.001458  "
      ]
     },
     "execution_count": 4,
     "metadata": {},
     "output_type": "execute_result"
    }
   ],
   "source": [
    "gLonArr = dataDF[\"glon\"].values\n",
    "gdLatArr = dataDF[\"gdlat\"].values\n",
    "mlon, mlat = utils.coord_conv( gLonArr, gdLatArr, \\\n",
    "                                 \"geo\", \"mag\", altitude=300., \\\n",
    "                                 date_time=selDT )\n",
    "dataDF[\"mlon\"] = mlon\n",
    "dataDF[\"mlat\"] = mlat\n",
    "dataDF[\"mlt\"] = [ aacgm.mltFromYmdhms(selDT.year, \\\n",
    "                selDT.month,selDT.day, selDT.hour,\\\n",
    "                selDT.minute, selDT.second, x) for x in dataDF[\"mlon\"] ]\n",
    "dataDF[\"normMLT\"] = [x-24 if x >= 12\\\n",
    "             else x for x in dataDF['mlt']]\n",
    "dataDF.head()"
   ]
  },
  {
   "cell_type": "code",
   "execution_count": 7,
   "metadata": {
    "collapsed": false,
    "deletable": true,
    "editable": true
   },
   "outputs": [
    {
     "data": {
      "text/plain": [
       "[<matplotlib.lines.Line2D at 0x7fe24297ffd0>]"
      ]
     },
     "execution_count": 7,
     "metadata": {},
     "output_type": "execute_result"
    },
    {
     "data": {
      "image/png": "[encoded data removed]",
      "text/plain": [
       "<matplotlib.figure.Figure at 0x7fe2482c6810>"
      ]
     },
     "metadata": {},
     "output_type": "display_data"
    }
   ],
   "source": [
    "glonList = dataDF[\"glon\"].tolist()\n",
    "# Seaborn styling\n",
    "sns.set_style(\"darkgrid\")\n",
    "sns.set_context(\"paper\")\n",
    "fig1 = plt.figure()\n",
    "ax1 = fig1.add_subplot(211)\n",
    "ax2 = fig1.add_subplot(212)\n",
    "selDF = dataDF[ (dataDF[\"glon\"] == -121.0) &\\\n",
    "                 (dataDF[\"mlat\"] >= 40.0) &\\\n",
    "                 (dataDF[\"mlat\"] <= 70.0)].reset_index(drop=True)\n",
    "latArr = selDF[\"mlat\"].values\n",
    "tecArr = selDF[\"tec\"].values\n",
    "medTecArr = signal.medfilt( tecArr, kernel_size=5 )\n",
    "filtTecArr = ndimage.filters.gaussian_filter1d(medTecArr,2)\n",
    "ax1.plot( latArr, tecArr, \".\" )\n",
    "ax1.plot( latArr, tecArr, \"-\" )\n",
    "\n",
    "ax2.plot( latArr, filtTecArr, \".\" )\n",
    "ax2.plot( latArr, filtTecArr, \"-\" )"
   ]
  },
  {
   "cell_type": "code",
   "execution_count": 6,
   "metadata": {
    "collapsed": false,
    "deletable": true,
    "editable": true
   },
   "outputs": [
    {
     "name": "stdout",
     "output_type": "stream",
     "text": [
      "[ 10.8   8.7   8.1   9.2   7.9   6.3   6.2   6.4   6.2   5.3   4.6   5.5\n",
      "   5.    5.5   5.1   5.1   5.1   3.3   3. ]\n",
      "----------------\n",
      "[-2.1  -1.35  0.25 -0.1  -1.45 -0.85  0.05  0.   -0.55 -0.8   0.1   0.2   0.\n",
      "  0.05 -0.2   0.   -0.9  -1.05 -0.3 ]\n"
     ]
    }
   ],
   "source": [
    "print tecArr\n",
    "diffTec = numpy.gradient(tecArr)\n",
    "print \"----------------\"\n",
    "print diffTec"
   ]
  },
  {
   "cell_type": "code",
   "execution_count": null,
   "metadata": {
    "collapsed": true,
    "deletable": true,
    "editable": true
   },
   "outputs": [],
   "source": []
  }
 ],
 "metadata": {
  "kernelspec": {
   "display_name": "Python 2",
   "language": "python",
   "name": "python2"
  },
  "language_info": {
   "codemirror_mode": {
    "name": "ipython",
    "version": 2
   },
   "file_extension": ".py",
   "mimetype": "text/x-python",
   "name": "python",
   "nbconvert_exporter": "python",
   "pygments_lexer": "ipython2",
   "version": "2.7.6"
  }
 },
 "nbformat": 4,
 "nbformat_minor": 2
}
