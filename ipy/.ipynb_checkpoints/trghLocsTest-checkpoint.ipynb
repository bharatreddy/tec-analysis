{
 "cells": [
  {
   "cell_type": "code",
   "execution_count": 1,
   "metadata": {
    "collapsed": true
   },
   "outputs": [],
   "source": [
    "import pandas\n",
    "import datetime\n",
    "import math\n",
    "import os\n",
    "import numpy\n",
    "from davitpy.models import *\n",
    "from davitpy import utils\n",
    "import matplotlib.pyplot as plt\n",
    "from matplotlib.colors import ListedColormap\n",
    "from matplotlib.colors import Normalize\n",
    "from matplotlib import ticker\n",
    "import seaborn as sns\n",
    "%matplotlib inline"
   ]
  },
  {
   "cell_type": "code",
   "execution_count": 2,
   "metadata": {
    "collapsed": true
   },
   "outputs": [],
   "source": [
    "# setup some params\n",
    "testDate = datetime.datetime( 2011, 3, 2, 2, 2, 30 )\n",
    "# only choose the North American sector for analysis\n",
    "glonRngNA = [ -165., -60. ]\n",
    "binSize = 5.\n",
    "binCutoff = 0.5"
   ]
  },
  {
   "cell_type": "code",
   "execution_count": 3,
   "metadata": {},
   "outputs": [
    {
     "data": {
      "text/html": [
       "<div>\n",
       "<table border=\"1\" class=\"dataframe\">\n",
       "  <thead>\n",
       "    <tr style=\"text-align: right;\">\n",
       "      <th></th>\n",
       "      <th>BndEquGlat</th>\n",
       "      <th>BndEquMlat</th>\n",
       "      <th>BndEquMlon</th>\n",
       "      <th>BndEquTecVal</th>\n",
       "      <th>BndGlon</th>\n",
       "      <th>BndPolGlat</th>\n",
       "      <th>BndPolMlat</th>\n",
       "      <th>BndPolMlon</th>\n",
       "      <th>BndPolTecVal</th>\n",
       "      <th>date</th>\n",
       "      <th>minFltrdTecVal</th>\n",
       "      <th>minTecGlat</th>\n",
       "      <th>minTecMlat</th>\n",
       "      <th>minTecMlon</th>\n",
       "      <th>minTecVal</th>\n",
       "    </tr>\n",
       "  </thead>\n",
       "  <tbody>\n",
       "    <tr>\n",
       "      <th>0</th>\n",
       "      <td>38.0</td>\n",
       "      <td>47.634053</td>\n",
       "      <td>-37.976848</td>\n",
       "      <td>4.3</td>\n",
       "      <td>-105.0</td>\n",
       "      <td>44.0</td>\n",
       "      <td>53.490621</td>\n",
       "      <td>-38.841781</td>\n",
       "      <td>5.35</td>\n",
       "      <td>2011-02-05 02:32:30</td>\n",
       "      <td>3.881276</td>\n",
       "      <td>40.0</td>\n",
       "      <td>49.582218</td>\n",
       "      <td>-38.251632</td>\n",
       "      <td>3.4</td>\n",
       "    </tr>\n",
       "    <tr>\n",
       "      <th>1</th>\n",
       "      <td>38.0</td>\n",
       "      <td>47.794316</td>\n",
       "      <td>-36.738952</td>\n",
       "      <td>4.2</td>\n",
       "      <td>-104.0</td>\n",
       "      <td>44.0</td>\n",
       "      <td>53.643162</td>\n",
       "      <td>-37.552536</td>\n",
       "      <td>5.10</td>\n",
       "      <td>2011-02-05 02:32:30</td>\n",
       "      <td>3.730546</td>\n",
       "      <td>40.0</td>\n",
       "      <td>49.739906</td>\n",
       "      <td>-36.996803</td>\n",
       "      <td>3.4</td>\n",
       "    </tr>\n",
       "    <tr>\n",
       "      <th>2</th>\n",
       "      <td>38.0</td>\n",
       "      <td>47.950059</td>\n",
       "      <td>-35.489789</td>\n",
       "      <td>4.5</td>\n",
       "      <td>-103.0</td>\n",
       "      <td>44.0</td>\n",
       "      <td>53.790550</td>\n",
       "      <td>-36.251329</td>\n",
       "      <td>4.70</td>\n",
       "      <td>2011-02-05 02:32:30</td>\n",
       "      <td>3.939476</td>\n",
       "      <td>41.0</td>\n",
       "      <td>50.866049</td>\n",
       "      <td>-35.855276</td>\n",
       "      <td>3.7</td>\n",
       "    </tr>\n",
       "    <tr>\n",
       "      <th>3</th>\n",
       "      <td>43.0</td>\n",
       "      <td>54.150050</td>\n",
       "      <td>-15.556051</td>\n",
       "      <td>6.5</td>\n",
       "      <td>-88.0</td>\n",
       "      <td>50.0</td>\n",
       "      <td>60.836759</td>\n",
       "      <td>-15.643711</td>\n",
       "      <td>5.00</td>\n",
       "      <td>2011-02-05 02:32:30</td>\n",
       "      <td>4.273354</td>\n",
       "      <td>47.0</td>\n",
       "      <td>57.972376</td>\n",
       "      <td>-15.584212</td>\n",
       "      <td>3.9</td>\n",
       "    </tr>\n",
       "    <tr>\n",
       "      <th>4</th>\n",
       "      <td>42.0</td>\n",
       "      <td>53.210803</td>\n",
       "      <td>-14.144962</td>\n",
       "      <td>6.9</td>\n",
       "      <td>-87.0</td>\n",
       "      <td>51.0</td>\n",
       "      <td>61.798285</td>\n",
       "      <td>-14.180143</td>\n",
       "      <td>6.40</td>\n",
       "      <td>2011-02-05 02:32:30</td>\n",
       "      <td>4.862104</td>\n",
       "      <td>46.0</td>\n",
       "      <td>57.027693</td>\n",
       "      <td>-14.126782</td>\n",
       "      <td>4.4</td>\n",
       "    </tr>\n",
       "  </tbody>\n",
       "</table>\n",
       "</div>"
      ],
      "text/plain": [
       "   BndEquGlat  BndEquMlat  BndEquMlon  BndEquTecVal  BndGlon  BndPolGlat  \\\n",
       "0        38.0   47.634053  -37.976848           4.3   -105.0        44.0   \n",
       "1        38.0   47.794316  -36.738952           4.2   -104.0        44.0   \n",
       "2        38.0   47.950059  -35.489789           4.5   -103.0        44.0   \n",
       "3        43.0   54.150050  -15.556051           6.5    -88.0        50.0   \n",
       "4        42.0   53.210803  -14.144962           6.9    -87.0        51.0   \n",
       "\n",
       "   BndPolMlat  BndPolMlon  BndPolTecVal                date  minFltrdTecVal  \\\n",
       "0   53.490621  -38.841781          5.35 2011-02-05 02:32:30        3.881276   \n",
       "1   53.643162  -37.552536          5.10 2011-02-05 02:32:30        3.730546   \n",
       "2   53.790550  -36.251329          4.70 2011-02-05 02:32:30        3.939476   \n",
       "3   60.836759  -15.643711          5.00 2011-02-05 02:32:30        4.273354   \n",
       "4   61.798285  -14.180143          6.40 2011-02-05 02:32:30        4.862104   \n",
       "\n",
       "   minTecGlat  minTecMlat  minTecMlon  minTecVal  \n",
       "0        40.0   49.582218  -38.251632        3.4  \n",
       "1        40.0   49.739906  -36.996803        3.4  \n",
       "2        41.0   50.866049  -35.855276        3.7  \n",
       "3        47.0   57.972376  -15.584212        3.9  \n",
       "4        46.0   57.027693  -14.126782        4.4  "
      ]
     },
     "execution_count": 3,
     "metadata": {},
     "output_type": "execute_result"
    }
   ],
   "source": [
    "fltdTrghLocFname = \"../data/test-fltrdTrghLoc.txt\"\n",
    "fltTecDataDF = pandas.read_csv(fltdTrghLocFname, sep=' ',\\\n",
    "                            parse_dates=[\"date\"],\\\n",
    "                               infer_datetime_format=True)\n",
    "fltTecDataDF.head()"
   ]
  },
  {
   "cell_type": "code",
   "execution_count": 4,
   "metadata": {},
   "outputs": [
    {
     "data": {
      "text/html": [
       "<div>\n",
       "<table border=\"1\" class=\"dataframe\">\n",
       "  <thead>\n",
       "    <tr style=\"text-align: right;\">\n",
       "      <th></th>\n",
       "      <th>BndEquGlat</th>\n",
       "      <th>BndEquMlat</th>\n",
       "      <th>BndEquMlon</th>\n",
       "      <th>BndEquTecVal</th>\n",
       "      <th>BndGlon</th>\n",
       "      <th>BndPolGlat</th>\n",
       "      <th>BndPolMlat</th>\n",
       "      <th>BndPolMlon</th>\n",
       "      <th>BndPolTecVal</th>\n",
       "      <th>date</th>\n",
       "      <th>minFltrdTecVal</th>\n",
       "      <th>minTecGlat</th>\n",
       "      <th>minTecMlat</th>\n",
       "      <th>minTecMlon</th>\n",
       "      <th>minTecVal</th>\n",
       "    </tr>\n",
       "  </thead>\n",
       "  <tbody>\n",
       "    <tr>\n",
       "      <th>0</th>\n",
       "      <td>44.0</td>\n",
       "      <td>55.119523</td>\n",
       "      <td>-12.700280</td>\n",
       "      <td>6.7</td>\n",
       "      <td>-86.0</td>\n",
       "      <td>57.0</td>\n",
       "      <td>67.455857</td>\n",
       "      <td>-12.829833</td>\n",
       "      <td>6.20</td>\n",
       "      <td>2011-03-02 02:02:30</td>\n",
       "      <td>2.462761</td>\n",
       "      <td>48.0</td>\n",
       "      <td>58.938937</td>\n",
       "      <td>-12.673222</td>\n",
       "      <td>1.00</td>\n",
       "    </tr>\n",
       "    <tr>\n",
       "      <th>1</th>\n",
       "      <td>44.0</td>\n",
       "      <td>55.111065</td>\n",
       "      <td>-11.270429</td>\n",
       "      <td>6.7</td>\n",
       "      <td>-85.0</td>\n",
       "      <td>57.0</td>\n",
       "      <td>67.447539</td>\n",
       "      <td>-11.268012</td>\n",
       "      <td>6.20</td>\n",
       "      <td>2011-03-02 02:02:30</td>\n",
       "      <td>2.582391</td>\n",
       "      <td>48.0</td>\n",
       "      <td>58.929376</td>\n",
       "      <td>-11.209919</td>\n",
       "      <td>1.20</td>\n",
       "    </tr>\n",
       "    <tr>\n",
       "      <th>2</th>\n",
       "      <td>43.0</td>\n",
       "      <td>54.110099</td>\n",
       "      <td>-8.450846</td>\n",
       "      <td>7.5</td>\n",
       "      <td>-83.0</td>\n",
       "      <td>50.0</td>\n",
       "      <td>60.788383</td>\n",
       "      <td>-8.240582</td>\n",
       "      <td>3.70</td>\n",
       "      <td>2011-03-02 02:02:30</td>\n",
       "      <td>2.752367</td>\n",
       "      <td>48.0</td>\n",
       "      <td>58.880311</td>\n",
       "      <td>-8.288618</td>\n",
       "      <td>1.85</td>\n",
       "    </tr>\n",
       "    <tr>\n",
       "      <th>3</th>\n",
       "      <td>43.0</td>\n",
       "      <td>54.019424</td>\n",
       "      <td>-5.618372</td>\n",
       "      <td>7.0</td>\n",
       "      <td>-81.0</td>\n",
       "      <td>52.0</td>\n",
       "      <td>62.607023</td>\n",
       "      <td>-5.222742</td>\n",
       "      <td>1.45</td>\n",
       "      <td>2011-03-02 02:02:30</td>\n",
       "      <td>1.999888</td>\n",
       "      <td>49.0</td>\n",
       "      <td>59.747096</td>\n",
       "      <td>-5.338945</td>\n",
       "      <td>1.60</td>\n",
       "    </tr>\n",
       "    <tr>\n",
       "      <th>4</th>\n",
       "      <td>43.0</td>\n",
       "      <td>53.958363</td>\n",
       "      <td>-4.207771</td>\n",
       "      <td>7.0</td>\n",
       "      <td>-80.0</td>\n",
       "      <td>54.0</td>\n",
       "      <td>64.450506</td>\n",
       "      <td>-3.650925</td>\n",
       "      <td>5.95</td>\n",
       "      <td>2011-03-02 02:02:30</td>\n",
       "      <td>2.125773</td>\n",
       "      <td>49.0</td>\n",
       "      <td>59.688923</td>\n",
       "      <td>-3.884564</td>\n",
       "      <td>1.50</td>\n",
       "    </tr>\n",
       "  </tbody>\n",
       "</table>\n",
       "</div>"
      ],
      "text/plain": [
       "   BndEquGlat  BndEquMlat  BndEquMlon  BndEquTecVal  BndGlon  BndPolGlat  \\\n",
       "0        44.0   55.119523  -12.700280           6.7    -86.0        57.0   \n",
       "1        44.0   55.111065  -11.270429           6.7    -85.0        57.0   \n",
       "2        43.0   54.110099   -8.450846           7.5    -83.0        50.0   \n",
       "3        43.0   54.019424   -5.618372           7.0    -81.0        52.0   \n",
       "4        43.0   53.958363   -4.207771           7.0    -80.0        54.0   \n",
       "\n",
       "   BndPolMlat  BndPolMlon  BndPolTecVal                date  minFltrdTecVal  \\\n",
       "0   67.455857  -12.829833          6.20 2011-03-02 02:02:30        2.462761   \n",
       "1   67.447539  -11.268012          6.20 2011-03-02 02:02:30        2.582391   \n",
       "2   60.788383   -8.240582          3.70 2011-03-02 02:02:30        2.752367   \n",
       "3   62.607023   -5.222742          1.45 2011-03-02 02:02:30        1.999888   \n",
       "4   64.450506   -3.650925          5.95 2011-03-02 02:02:30        2.125773   \n",
       "\n",
       "   minTecGlat  minTecMlat  minTecMlon  minTecVal  \n",
       "0        48.0   58.938937  -12.673222       1.00  \n",
       "1        48.0   58.929376  -11.209919       1.20  \n",
       "2        48.0   58.880311   -8.288618       1.85  \n",
       "3        49.0   59.747096   -5.338945       1.60  \n",
       "4        49.0   59.688923   -3.884564       1.50  "
      ]
     },
     "execution_count": 4,
     "metadata": {},
     "output_type": "execute_result"
    }
   ],
   "source": [
    "\n",
    "selTrDF = fltTecDataDF[ (fltTecDataDF[\"date\"] == testDate) & \\\n",
    "                       (fltTecDataDF[\"BndGlon\"] >= glonRngNA[0]) &\\\n",
    "                      (fltTecDataDF[\"BndGlon\"] <= glonRngNA[1]) ].reset_index(drop=True)\n",
    "selTrDF.head()"
   ]
  },
  {
   "cell_type": "code",
   "execution_count": 5,
   "metadata": {},
   "outputs": [
    {
     "data": {
      "text/plain": [
       "[<matplotlib.lines.Line2D at 0x7f319b8b0ed0>]"
      ]
     },
     "execution_count": 5,
     "metadata": {},
     "output_type": "execute_result"
    },
    {
     "data": {
      "image/png": "[encoded data removed]",
      "text/plain": [
       "<matplotlib.figure.Figure at 0x7f319b90bbd0>"
      ]
     },
     "metadata": {},
     "output_type": "display_data"
    }
   ],
   "source": [
    "f = plt.figure(figsize=(12, 8))\n",
    "ax = f.add_subplot(1,1,1)\n",
    "\n",
    "ax.plot( selTrDF[\"BndGlon\"], selTrDF[\"BndEquGlat\"], \"bo\" )\n",
    "ax.plot( selTrDF[\"BndGlon\"], selTrDF[\"minTecGlat\"], \"ro\" )\n",
    "ax.plot( selTrDF[\"BndGlon\"], selTrDF[\"BndPolGlat\"], \"bo\" )\n",
    "# ax.plot( BndEquMlonArr, BndEquMlatArr, \"bo\" )\n",
    "# ax.plot( minTecMlonArr, minTecMlatArr, \"ro\" )\n",
    "# ax.plot( BndPolMlonArr, BndPolMlatArr, \"bo\" )\n",
    "# f.savefig(\"../figs/bndry-\" + nrstTime.strftime(\"%Y%m%d-%H%M\") + \".pdf\",bbox_inches='tight')"
   ]
  },
  {
   "cell_type": "code",
   "execution_count": 20,
   "metadata": {},
   "outputs": [
    {
     "name": "stdout",
     "output_type": "stream",
     "text": [
      "[-165. -120. -115. -110. -100.  -85.  -80.  -75.  -70.  -65.]\n"
     ]
    }
   ],
   "source": [
    "# Now we need to detect portions in the NA sector\n",
    "# where data is missing for that we'll divide the\n",
    "# data into bins of 5 deg and find bins where the\n",
    "# number of data points is less(than 50%) and discard them.\n",
    "binList = [ b for b in numpy.arange(glonRngNA[0],glonRngNA[1],binSize) ]\n",
    "glonFreq, glonBins = numpy.histogram(selTrDF[\"BndGlon\"], bins=binList)\n",
    "selInds = numpy.where( glonFreq >= binCutoff*binSize )\n",
    "# Now select longitudes which satisfy this criteria\n",
    "# This is an interval (bin) so need to add another last element of glon\n",
    "selGlons = numpy.append( glonBins[selValues], glonBins[selValues[-1][-1] + 1] )\n",
    "print selGlons"
   ]
  },
  {
   "cell_type": "code",
   "execution_count": 14,
   "metadata": {},
   "outputs": [
    {
     "name": "stdout",
     "output_type": "stream",
     "text": [
      "[3 5 5 5 5 4 5 5 6] [-165. -120. -115. -110. -100.  -85.  -80.  -75.  -70.]\n"
     ]
    }
   ],
   "source": [
    "print glonFreq[selValues], glonBins[selValues]"
   ]
  },
  {
   "cell_type": "code",
   "execution_count": 8,
   "metadata": {},
   "outputs": [
    {
     "name": "stdout",
     "output_type": "stream",
     "text": [
      "[   1.    2.    2.    1.  -38.    1.    1.    1.    1.    1.    8.   11.\n",
      "   15.    1.    1.   16. -103.    1.   -2.   83.  -37.    7.    1.   11.\n",
      "    1.    1.    1.    1.   27.    1.    1.    1.    1.    2.    1.  -59.\n",
      "   11.    1.   14.   24.    1.  -36.   30.    1.    1.  -34.  -12.   48.\n",
      "   -1.  -28.   37.  -43.]\n"
     ]
    }
   ],
   "source": [
    "print numpy.diff( selTrDF[\"BndGlon\"] )"
   ]
  },
  {
   "cell_type": "code",
   "execution_count": 25,
   "metadata": {},
   "outputs": [
    {
     "name": "stdout",
     "output_type": "stream",
     "text": [
      "[-165. -164. -163. -121. -120. -119. -118. -117. -116. -115. -114. -113.\n",
      " -112. -111. -110. -109. -108. -107. -106. -105. -101. -100.  -99.  -98.\n",
      "  -97.  -96.  -95.  -94.  -86.  -85.  -83.  -82.  -81.  -80.  -79.  -78.\n",
      "  -77.  -76.  -75.  -74.  -73.  -72.  -71.  -70.  -69.  -68.  -67.  -66.\n",
      "  -65.  -64.  -63.  -62.  -61.]\n",
      "[  1.    1.   21.5  21.5   1.    1.    1.    1.    1.    1.    1.    1.\n",
      "   1.    1.    1.    1.    1.    1.    1.    2.5   2.5   1.    1.    1.\n",
      "   1.    1.    1.    4.5   4.5   1.5   1.5   1.    1.    1.    1.    1.\n",
      "   1.    1.    1.    1.    1.    1.    1.    1.    1.    1.    1.    1.\n",
      "   1.    1.    1.    1.    1. ]\n",
      "[]\n"
     ]
    }
   ],
   "source": [
    "sortedGlonArr = numpy.sort( selTrDF[\"BndGlon\"] )\n",
    "print test1\n",
    "print numpy.gradient( test1 )\n",
    "# Identify sudden and big jumps in Long\n",
    "# We'll identify jumps by using the gradient\n",
    "# Function!\n",
    "glonGradInds = numpy.where( numpy.gradient( sortedGlonArr ) > 5. )\n",
    "print sortedGlonArr[glonGradInds]"
   ]
  },
  {
   "cell_type": "code",
   "execution_count": 10,
   "metadata": {},
   "outputs": [
    {
     "data": {
      "image/png": "[encoded data removed]",
      "text/plain": [
       "<matplotlib.figure.Figure at 0x7f319bb23bd0>"
      ]
     },
     "metadata": {},
     "output_type": "display_data"
    }
   ],
   "source": [
    "# plt.plot( selTrDF[\"minFltrdTecVal\"], \".\" )\n",
    "plt.hist( selTrDF[\"minTecMlat\"] )\n",
    "meanTecValTrghMin = selTrDF[\"minFltrdTecVal\"].mean()\n",
    "stdTecValTrghMin = selTrDF[\"minFltrdTecVal\"].std()\n",
    "# Discard the trough locations which are more than\n",
    "# 1 std away..."
   ]
  },
  {
   "cell_type": "code",
   "execution_count": 11,
   "metadata": {},
   "outputs": [
    {
     "name": "stdout",
     "output_type": "stream",
     "text": [
      "58.4540233007 4.18598078876\n",
      "count    53.000000\n",
      "mean     58.454023\n",
      "std       4.185981\n",
      "min      48.442995\n",
      "25%      57.813942\n",
      "50%      59.149895\n",
      "75%      61.091150\n",
      "max      66.852954\n",
      "Name: minTecMlat, dtype: float64\n"
     ]
    }
   ],
   "source": [
    "meanGlonTrghMin = selTrDF[\"minTecMlat\"].mean()\n",
    "stdGlonTrghMin = selTrDF[\"minTecMlat\"].std()\n",
    "print meanGlonTrghMin, stdGlonTrghMin\n",
    "print selTrDF[\"minTecMlat\"].describe()"
   ]
  },
  {
   "cell_type": "code",
   "execution_count": null,
   "metadata": {
    "collapsed": true
   },
   "outputs": [],
   "source": []
  }
 ],
 "metadata": {
  "kernelspec": {
   "display_name": "Python 2",
   "language": "python",
   "name": "python2"
  },
  "language_info": {
   "codemirror_mode": {
    "name": "ipython",
    "version": 2
   },
   "file_extension": ".py",
   "mimetype": "text/x-python",
   "name": "python",
   "nbconvert_exporter": "python",
   "pygments_lexer": "ipython2",
   "version": "2.7.6"
  }
 },
 "nbformat": 4,
 "nbformat_minor": 2
}
