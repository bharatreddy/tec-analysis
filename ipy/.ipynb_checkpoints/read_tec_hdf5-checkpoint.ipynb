{
 "cells": [
  {
   "cell_type": "code",
   "execution_count": 1,
   "metadata": {
    "collapsed": true
   },
   "outputs": [],
   "source": [
    "import pandas\n",
    "import datetime\n",
    "import numpy\n",
    "from davitpy.models import *\n",
    "from davitpy import utils\n",
    "%matplotlib inline"
   ]
  },
  {
   "cell_type": "code",
   "execution_count": 2,
   "metadata": {
    "collapsed": false
   },
   "outputs": [
    {
     "data": {
      "text/html": [
       "<div>\n",
       "<table border=\"1\" class=\"dataframe\">\n",
       "  <thead>\n",
       "    <tr style=\"text-align: right;\">\n",
       "      <th></th>\n",
       "      <th>year</th>\n",
       "      <th>month</th>\n",
       "      <th>day</th>\n",
       "      <th>hour</th>\n",
       "      <th>min</th>\n",
       "      <th>sec</th>\n",
       "      <th>ut1_unix</th>\n",
       "      <th>ut2_unix</th>\n",
       "      <th>recno</th>\n",
       "      <th>gdlat</th>\n",
       "      <th>glon</th>\n",
       "      <th>tec</th>\n",
       "      <th>dtec</th>\n",
       "      <th>date</th>\n",
       "    </tr>\n",
       "  </thead>\n",
       "  <tbody>\n",
       "    <tr>\n",
       "      <th>0</th>\n",
       "      <td>2012</td>\n",
       "      <td>6</td>\n",
       "      <td>18</td>\n",
       "      <td>0</td>\n",
       "      <td>2</td>\n",
       "      <td>30</td>\n",
       "      <td>1339977600</td>\n",
       "      <td>1339977900</td>\n",
       "      <td>2</td>\n",
       "      <td>-89.0</td>\n",
       "      <td>-175.0</td>\n",
       "      <td>3.7</td>\n",
       "      <td>1.5</td>\n",
       "      <td>2012-06-18 00:02:30</td>\n",
       "    </tr>\n",
       "    <tr>\n",
       "      <th>1</th>\n",
       "      <td>2012</td>\n",
       "      <td>6</td>\n",
       "      <td>18</td>\n",
       "      <td>0</td>\n",
       "      <td>2</td>\n",
       "      <td>30</td>\n",
       "      <td>1339977600</td>\n",
       "      <td>1339977900</td>\n",
       "      <td>2</td>\n",
       "      <td>-89.0</td>\n",
       "      <td>-174.0</td>\n",
       "      <td>3.6</td>\n",
       "      <td>1.4</td>\n",
       "      <td>2012-06-18 00:02:30</td>\n",
       "    </tr>\n",
       "    <tr>\n",
       "      <th>2</th>\n",
       "      <td>2012</td>\n",
       "      <td>6</td>\n",
       "      <td>18</td>\n",
       "      <td>0</td>\n",
       "      <td>2</td>\n",
       "      <td>30</td>\n",
       "      <td>1339977600</td>\n",
       "      <td>1339977900</td>\n",
       "      <td>2</td>\n",
       "      <td>-89.0</td>\n",
       "      <td>-173.0</td>\n",
       "      <td>3.2</td>\n",
       "      <td>1.4</td>\n",
       "      <td>2012-06-18 00:02:30</td>\n",
       "    </tr>\n",
       "    <tr>\n",
       "      <th>3</th>\n",
       "      <td>2012</td>\n",
       "      <td>6</td>\n",
       "      <td>18</td>\n",
       "      <td>0</td>\n",
       "      <td>2</td>\n",
       "      <td>30</td>\n",
       "      <td>1339977600</td>\n",
       "      <td>1339977900</td>\n",
       "      <td>2</td>\n",
       "      <td>-89.0</td>\n",
       "      <td>-172.0</td>\n",
       "      <td>3.2</td>\n",
       "      <td>1.4</td>\n",
       "      <td>2012-06-18 00:02:30</td>\n",
       "    </tr>\n",
       "    <tr>\n",
       "      <th>4</th>\n",
       "      <td>2012</td>\n",
       "      <td>6</td>\n",
       "      <td>18</td>\n",
       "      <td>0</td>\n",
       "      <td>2</td>\n",
       "      <td>30</td>\n",
       "      <td>1339977600</td>\n",
       "      <td>1339977900</td>\n",
       "      <td>2</td>\n",
       "      <td>-89.0</td>\n",
       "      <td>-171.0</td>\n",
       "      <td>3.2</td>\n",
       "      <td>1.4</td>\n",
       "      <td>2012-06-18 00:02:30</td>\n",
       "    </tr>\n",
       "  </tbody>\n",
       "</table>\n",
       "</div>"
      ],
      "text/plain": [
       "   year  month  day  hour  min  sec    ut1_unix    ut2_unix  recno  gdlat  \\\n",
       "0  2012      6   18     0    2   30  1339977600  1339977900      2  -89.0   \n",
       "1  2012      6   18     0    2   30  1339977600  1339977900      2  -89.0   \n",
       "2  2012      6   18     0    2   30  1339977600  1339977900      2  -89.0   \n",
       "3  2012      6   18     0    2   30  1339977600  1339977900      2  -89.0   \n",
       "4  2012      6   18     0    2   30  1339977600  1339977900      2  -89.0   \n",
       "\n",
       "    glon  tec  dtec                date  \n",
       "0 -175.0  3.7   1.5 2012-06-18 00:02:30  \n",
       "1 -174.0  3.6   1.4 2012-06-18 00:02:30  \n",
       "2 -173.0  3.2   1.4 2012-06-18 00:02:30  \n",
       "3 -172.0  3.2   1.4 2012-06-18 00:02:30  \n",
       "4 -171.0  3.2   1.4 2012-06-18 00:02:30  "
      ]
     },
     "execution_count": 2,
     "metadata": {},
     "output_type": "execute_result"
    }
   ],
   "source": [
    "inpTecFile = \"../data/gps120618g.001.hdf5\"\n",
    "dataDF = pandas.read_hdf(inpTecFile, 'Data/Table Layout')\n",
    "dataDF[\"date\"] = pandas.to_datetime(dataDF[\"year\"]*10000000000 +\\\n",
    "                                    dataDF[\"month\"]*100000000 + dataDF[\"day\"]*1000000 +\\\n",
    "                                    dataDF[\"hour\"]*10000 + dataDF[\"min\"]*100 +\\\n",
    "                                    dataDF[\"sec\"],format='%Y%m%d%H%M%S')\n",
    "dataDF.head()"
   ]
  },
  {
   "cell_type": "code",
   "execution_count": 3,
   "metadata": {
    "collapsed": false
   },
   "outputs": [
    {
     "name": "stdout",
     "output_type": "stream",
     "text": [
      "[-3.5873116  -3.58930457 -3.59122748 -3.5930799  -3.59486145] [-75.38067981 -75.36605033 -75.35128682 -75.3363942  -75.32137744]\n"
     ]
    }
   ],
   "source": [
    "def convert_to_mlt(row):\n",
    "#     mag = utils.coord_conv( row['glon'], row['gdlat'], \\\n",
    "#                                  \"geo\", \"mlt\", altitude=300., \\\n",
    "#                                  date_time=row['date'] )\n",
    "#     print row[\"date\"]\n",
    "    mag = (1,2,3)\n",
    "    return mag\n",
    "\n",
    "dataDF = dataDF[0:5]\n",
    "gLonArr = dataDF[\"glon\"].values\n",
    "gdLatArr = dataDF[\"gdlat\"].values\n",
    "currDT = datetime.datetime.utcfromtimestamp(dataDF[\"date\"].values[0].tolist()/1e9)\n",
    "\n",
    "mlt, mlat = utils.coord_conv( gLonArr, gdLatArr, \\\n",
    "                                 \"geo\", \"mlt\", altitude=300., \\\n",
    "                                 date_time=currDT )\n",
    "print mlt, mlat\n",
    "# dataDF[\"m1\"], dataDF[\"m2\"], dataDF[\"m3\"] = zip( *dataDF.map( convert_to_mlt, axis=1 ) )#dataDF.apply( convert_to_mlt, axis=1 )#"
   ]
  },
  {
   "cell_type": "code",
   "execution_count": null,
   "metadata": {
    "collapsed": true
   },
   "outputs": [],
   "source": []
  }
 ],
 "metadata": {
  "kernelspec": {
   "display_name": "Python 2",
   "language": "python",
   "name": "python2"
  },
  "language_info": {
   "codemirror_mode": {
    "name": "ipython",
    "version": 2
   },
   "file_extension": ".py",
   "mimetype": "text/x-python",
   "name": "python",
   "nbconvert_exporter": "python",
   "pygments_lexer": "ipython2",
   "version": "2.7.6"
  }
 },
 "nbformat": 4,
 "nbformat_minor": 2
}
