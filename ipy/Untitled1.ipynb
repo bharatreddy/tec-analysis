{
 "cells": [
  {
   "cell_type": "code",
   "execution_count": 6,
   "metadata": {
    "collapsed": true
   },
   "outputs": [],
   "source": [
    "from scipy import misc\n",
    "from scipy import ndimage"
   ]
  },
  {
   "cell_type": "code",
   "execution_count": 5,
   "metadata": {
    "collapsed": false
   },
   "outputs": [],
   "source": [
    "face = misc.face()"
   ]
  },
  {
   "cell_type": "code",
   "execution_count": 4,
   "metadata": {
    "collapsed": false
   },
   "outputs": [
    {
     "data": {
      "text/plain": [
       "array([[[121, 112, 131],\n",
       "        [138, 129, 148],\n",
       "        [153, 144, 165],\n",
       "        ..., \n",
       "        [119, 126,  74],\n",
       "        [131, 136,  82],\n",
       "        [139, 144,  90]],\n",
       "\n",
       "       [[ 89,  82, 100],\n",
       "        [110, 103, 121],\n",
       "        [130, 122, 143],\n",
       "        ..., \n",
       "        [118, 125,  71],\n",
       "        [134, 141,  87],\n",
       "        [146, 153,  99]],\n",
       "\n",
       "       [[ 73,  66,  84],\n",
       "        [ 94,  87, 105],\n",
       "        [115, 108, 126],\n",
       "        ..., \n",
       "        [117, 126,  71],\n",
       "        [133, 142,  87],\n",
       "        [144, 153,  98]],\n",
       "\n",
       "       ..., \n",
       "       [[ 87, 106,  76],\n",
       "        [ 94, 110,  81],\n",
       "        [107, 124,  92],\n",
       "        ..., \n",
       "        [120, 158,  97],\n",
       "        [119, 157,  96],\n",
       "        [119, 158,  95]],\n",
       "\n",
       "       [[ 85, 101,  72],\n",
       "        [ 95, 111,  82],\n",
       "        [112, 127,  96],\n",
       "        ..., \n",
       "        [121, 157,  96],\n",
       "        [120, 156,  94],\n",
       "        [120, 156,  94]],\n",
       "\n",
       "       [[ 85, 101,  74],\n",
       "        [ 97, 113,  84],\n",
       "        [111, 126,  97],\n",
       "        ..., \n",
       "        [120, 156,  95],\n",
       "        [119, 155,  93],\n",
       "        [118, 154,  92]]], dtype=uint8)"
      ]
     },
     "execution_count": 4,
     "metadata": {},
     "output_type": "execute_result"
    }
   ],
   "source": [
    "face"
   ]
  },
  {
   "cell_type": "code",
   "execution_count": null,
   "metadata": {
    "collapsed": true
   },
   "outputs": [],
   "source": []
  }
 ],
 "metadata": {
  "kernelspec": {
   "display_name": "Python 2",
   "language": "python",
   "name": "python2"
  },
  "language_info": {
   "codemirror_mode": {
    "name": "ipython",
    "version": 2
   },
   "file_extension": ".py",
   "mimetype": "text/x-python",
   "name": "python",
   "nbconvert_exporter": "python",
   "pygments_lexer": "ipython2",
   "version": "2.7.9"
  }
 },
 "nbformat": 4,
 "nbformat_minor": 1
}
